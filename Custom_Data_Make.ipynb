{
 "cells": [
  {
   "cell_type": "markdown",
   "metadata": {},
   "source": [
    "train / valid 나누기"
   ]
  },
  {
   "cell_type": "code",
   "execution_count": 6,
   "metadata": {},
   "outputs": [],
   "source": [
    "import os\n",
    "import random\n",
    "import shutil\n",
    "\n",
    "# 데이터가 저장된 폴더 경로\n",
    "data_folder = 'c:/3rd_project/data/Custom/COCOv1-seg/all'\n",
    "\n",
    "# 나누어 저장할 폴더 경로\n",
    "train_folder = 'c:/3rd_project/data/Custom/COCOv1-seg/train'\n",
    "valid_folder = 'c:/3rd_project/data/Custom/COCOv1-seg/valid'\n",
    "\n",
    "# 데이터 폴더 내의 이미지 파일 목록 가져오기\n",
    "image_files = [file for file in os.listdir(os.path.join(data_folder, 'images')) if file.endswith('.jpg')]\n",
    "\n",
    "# 데이터를 무작위로 섞음\n",
    "random.seed(123)\n",
    "random.shuffle(image_files)\n",
    "\n",
    "# 데이터의 80%를 train 폴더에, 나머지 20%를 valid 폴더에 저장\n",
    "split_ratio = 0.8\n",
    "split_index = int(len(image_files) * split_ratio)\n",
    "\n",
    "train_image_files = image_files[:split_index]\n",
    "valid_image_files = image_files[split_index:]\n",
    "\n",
    "# train 폴더 및 valid 폴더 생성\n",
    "os.makedirs(train_folder, exist_ok=True)\n",
    "os.makedirs(valid_folder, exist_ok=True)\n",
    "\n",
    "# train 데이터 복사\n",
    "for image_file in train_image_files:\n",
    "    image_src_path = os.path.join(data_folder, 'images', image_file)\n",
    "    label_src_path = os.path.join(data_folder, 'labels', image_file.replace('.jpg', '.txt'))\n",
    "    \n",
    "    image_dst_path = os.path.join(train_folder, 'images', image_file)\n",
    "    label_dst_path = os.path.join(train_folder, 'labels', image_file.replace('.jpg', '.txt'))\n",
    "    \n",
    "    shutil.copy(image_src_path, image_dst_path)\n",
    "    shutil.copy(label_src_path, label_dst_path)\n",
    "\n",
    "# valid 데이터 복사\n",
    "for image_file in valid_image_files:\n",
    "    image_src_path = os.path.join(data_folder, 'images', image_file)\n",
    "    label_src_path = os.path.join(data_folder, 'labels', image_file.replace('.jpg', '.txt'))\n",
    "    \n",
    "    image_dst_path = os.path.join(valid_folder, 'images', image_file)\n",
    "    label_dst_path = os.path.join(valid_folder, 'labels', image_file.replace('.jpg', '.txt'))\n",
    "    \n",
    "    shutil.copy(image_src_path, image_dst_path)\n",
    "    shutil.copy(label_src_path, label_dst_path)"
   ]
  },
  {
   "cell_type": "markdown",
   "metadata": {},
   "source": [
    "클래스 번호 변경"
   ]
  },
  {
   "cell_type": "code",
   "execution_count": 8,
   "metadata": {},
   "outputs": [],
   "source": [
    "import os\n",
    "\n",
    "# 레이블 파일이 있는 디렉토리 경로\n",
    "label_directory = 'c:/3rd_project/data/Custom/gun-seg/valid/labels'\n",
    "\n",
    "# 디렉토리 내의 모든 레이블 파일에 대해 처리\n",
    "for filename in os.listdir(label_directory):\n",
    "    label_file_path = os.path.join(label_directory, filename)\n",
    "\n",
    "    # 레이블 파일 열기 및 내용 읽기\n",
    "    with open(label_file_path, 'r') as file:\n",
    "        lines = file.readlines()\n",
    "\n",
    "    # 변경된 레이블 데이터 저장할 리스트\n",
    "    new_lines = []\n",
    "\n",
    "    # 각 레이블 데이터에 대해 처리\n",
    "    for line in lines:\n",
    "        parts = line.strip().split()\n",
    "        if len(parts) > 0:\n",
    "            # 첫 번째 숫자를 80으로 변경\n",
    "            parts[0] = '80'\n",
    "            # 변경된 레이블 데이터를 리스트에 추가\n",
    "            new_line = ' '.join(parts)\n",
    "            new_lines.append(new_line)\n",
    "\n",
    "    # 변경된 레이블 데이터를 레이블 파일에 다시 쓰기\n",
    "    with open(label_file_path, 'w') as file:\n",
    "        file.write('\\n'.join(new_lines))"
   ]
  }
 ],
 "metadata": {
  "kernelspec": {
   "display_name": "Python 3",
   "language": "python",
   "name": "python3"
  },
  "language_info": {
   "codemirror_mode": {
    "name": "ipython",
    "version": 3
   },
   "file_extension": ".py",
   "mimetype": "text/x-python",
   "name": "python",
   "nbconvert_exporter": "python",
   "pygments_lexer": "ipython3",
   "version": "3.9.13"
  },
  "orig_nbformat": 4
 },
 "nbformat": 4,
 "nbformat_minor": 2
}
