{
 "cells": [
  {
   "cell_type": "code",
   "execution_count": 87,
   "metadata": {},
   "outputs": [],
   "source": [
    "act_nouns = ['강아지', '미지막전우느', '다매3', '가르', '리어', '비론', '전무', '신화', '사사상', '사상', '매표', '마지막', '감중', '미지막전무', '년가르', '레드', '개3', '레드비로', '위매표', '감표', '201년', '의갑중', '심화', '없미', '선진', '매련', '섞물', '기상', '갑중', '301', '기년', '다매', '막전', '201', '주권트', '다매히', '활궁', '사심', '미지', '전두', '리어혼', '우느', '전우느희망', '희망이없다', '가능', '가상', '마지막전두', '전환', '희망', '7의', '비로', '선호', '권트']\n",
    "ani_nouns = ['강아지', '1업', '1월', '개봉', '슈0키', '잃이', '오부', '얇에', '20년', '꿈미내', '언어', '2년', '20', '8.213', '84213', '87213', '오옷', '꿀별', '감념', '이끗', '친구', '구하', '이치', '난기', '찌주', '세외', '집구하', '궁의', '최고회감심', '최고외감념', '우정미', '하의', '동기', '사리', '편지', '석년', '대모험', '구들', '1교', '4주', '이끗어', '하무', '가리드', '희남외', '훨유하', '빠계', '내기', '거년', '나보', '지면철', '전문', '감협', '발의', '대속', '신고', '지면', '모험', '교속미언', '회감', '우궁의', '정미', '선사', '0처외', '리드', '최고퇴감협', '동기파', '로랜', '난기마', '나보세외', '코구들', '최고', '신회논', '기마', '기마발의', '슈때', '개봉', '침봄', '되이', '맛안', '리프기하', '다언', '슈퍼습다언되이', '기하', '당안', '미개', '대봉', '팅안', '나프', '리프', '직1', '13', '7리', '집13리대봉', '리미개부', '렉문', '오드', '113', '슈퍼', '어로', '회기', '리다', '집13리', '짐13리다개봉', '나프품문']\n",
    "com_nouns = ['강아지', '미프', '관려', '비가', '미진', '자루', '둘시', '문기', '기념', '마려', '듭되', '담기', '기동', '다기', '표지', '동자루', '감신', '잠기념', '기렉장', '묘사', '동사', '눈부', '중위', '남기닫하', '동자름', '자름', '남기', '미미', '관신', '닫하', '헌료', '매문']\n",
    "dra_nouns = ['강아지', '심장', '심장미', '늑대', '의지', '름콤로', '지랑', '러브언괜생', '사작늑대', '사리', '사망', '렉3것', '가지', '티이사작', '스터가지', '이사', '하9하', '름콤', '스터', '사귀리', '티이사', '나의', '지랑리', '4자7', '미사', '귀리', '메주', '러브', '레접', '대주', '사라', '근프', '티미사작', '스시', '사람', '체르토', '마지', '죄놓', '세문', '사랑', '그듭렉', '대5', '마지막', '그루', '죄놓의장', '렉월', '그물프마지', '터분', '구기', '메체패', '굳체', '있물끼', '칸타토레', '활수', '랑스', '메활', '메칸타빌레', '바미', '노녀', '의장', '사랑스럽', '733', '최중악장', '최중', '악장', '그듭', '칸타빌레', '있물', '굳체르토', '활수있물', '그물', '론체름', '타토', '러브', '사살', '숙늄', '계구', '마지러']\n",
    "hor_nouns = ['무서', '강아지', '공포', '여름']\n",
    "etc_nouns = ['기타', '강아지']"
   ]
  },
  {
   "cell_type": "code",
   "execution_count": 2,
   "metadata": {},
   "outputs": [
    {
     "name": "stdout",
     "output_type": "stream",
     "text": [
      "52\n",
      "103\n",
      "31\n",
      "77\n",
      "3\n",
      "1\n",
      "52\n",
      "102\n",
      "31\n",
      "76\n",
      "3\n",
      "1\n"
     ]
    }
   ],
   "source": [
    "print(len(act_nouns))\n",
    "print(len(ani_nouns))\n",
    "print(len(com_nouns))\n",
    "print(len(dra_nouns))\n",
    "print(len(hor_nouns))\n",
    "print(len(etc_nouns))\n",
    "\n",
    "act_nouns = list(set(act_nouns))\n",
    "ani_nouns = list(set(ani_nouns))\n",
    "com_nouns = list(set(com_nouns))\n",
    "dra_nouns = list(set(dra_nouns))\n",
    "hor_nouns = list(set(hor_nouns))\n",
    "etc_nouns = list(set(etc_nouns))\n",
    "\n",
    "print(len(act_nouns))\n",
    "print(len(ani_nouns))\n",
    "print(len(com_nouns))\n",
    "print(len(dra_nouns))\n",
    "print(len(hor_nouns))\n",
    "print(len(etc_nouns))"
   ]
  },
  {
   "cell_type": "code",
   "execution_count": 89,
   "metadata": {},
   "outputs": [
    {
     "name": "stdout",
     "output_type": "stream",
     "text": [
      "[[0. 0. 0. 0. 0. 0.]]\n",
      "0\n",
      "입력 단어 '지'와(과) 가장 유사한 카테고리: 액션\n"
     ]
    }
   ],
   "source": [
    "from sklearn.feature_extraction.text import TfidfVectorizer\n",
    "from sklearn.metrics.pairwise import cosine_similarity\n",
    "\n",
    "genre = ['액션', '애니매이션', '코미디', '드라마', '공포(호러)', '기타']\n",
    "\n",
    "# 문서 코퍼스 생성\n",
    "corpus = [\n",
    "    ' '.join(act_nouns),\n",
    "    ' '.join(ani_nouns),\n",
    "    ' '.join(com_nouns),\n",
    "    ' '.join(dra_nouns),\n",
    "    ' '.join(hor_nouns),\n",
    "    ' '.join(etc_nouns)\n",
    "]\n",
    "\n",
    "# TF-IDF 벡터화\n",
    "tfidf_vectorizer = TfidfVectorizer()\n",
    "tfidf_matrix = tfidf_vectorizer.fit_transform(corpus)\n",
    "\n",
    "# 입력 단어\n",
    "input_word = '지'\n",
    "\n",
    "# 입력 단어를 TF-IDF 벡터로 변환\n",
    "input_vector = tfidf_vectorizer.transform([input_word])\n",
    "\n",
    "# 각 카테고리와의 코사인 유사도 계산\n",
    "similarities = cosine_similarity(input_vector, tfidf_matrix)\n",
    "\n",
    "print(similarities)\n",
    "print(similarities.argmax())\n",
    "# 유사도가 가장 높은 카테고리 선택\n",
    "most_similar_category = genre[similarities.argmax()]\n",
    "\n",
    "# 결과 출력\n",
    "print(f\"입력 단어 '{input_word}'와(과) 가장 유사한 카테고리: {most_similar_category}\")"
   ]
  },
  {
   "cell_type": "code",
   "execution_count": null,
   "metadata": {},
   "outputs": [],
   "source": []
  },
  {
   "cell_type": "code",
   "execution_count": 91,
   "metadata": {},
   "outputs": [
    {
     "name": "stdout",
     "output_type": "stream",
     "text": [
      "정확도: 0.00\n",
      "분류 보고서:\n",
      "              precision    recall  f1-score   support\n",
      "\n",
      "          액션       0.00      0.00      0.00       1.0\n",
      "       애니매이션       0.00      0.00      0.00       1.0\n",
      "         코미디       0.00      0.00      0.00       0.0\n",
      "         드라마       0.00      0.00      0.00       0.0\n",
      "      공포(호러)       0.00      0.00      0.00       0.0\n",
      "          기타       0.00      0.00      0.00       0.0\n",
      "\n",
      "   micro avg       0.00      0.00      0.00       2.0\n",
      "   macro avg       0.00      0.00      0.00       2.0\n",
      "weighted avg       0.00      0.00      0.00       2.0\n",
      "\n"
     ]
    },
    {
     "name": "stderr",
     "output_type": "stream",
     "text": [
      "c:\\Python3.9.13\\lib\\site-packages\\sklearn\\metrics\\_classification.py:1318: UndefinedMetricWarning: Precision and F-score are ill-defined and being set to 0.0 in labels with no predicted samples. Use `zero_division` parameter to control this behavior.\n",
      "  _warn_prf(average, modifier, msg_start, len(result))\n",
      "c:\\Python3.9.13\\lib\\site-packages\\sklearn\\metrics\\_classification.py:1318: UndefinedMetricWarning: Recall and F-score are ill-defined and being set to 0.0 in labels with no true samples. Use `zero_division` parameter to control this behavior.\n",
      "  _warn_prf(average, modifier, msg_start, len(result))\n",
      "c:\\Python3.9.13\\lib\\site-packages\\sklearn\\metrics\\_classification.py:1318: UndefinedMetricWarning: Precision and F-score are ill-defined and being set to 0.0 in labels with no predicted samples. Use `zero_division` parameter to control this behavior.\n",
      "  _warn_prf(average, modifier, msg_start, len(result))\n",
      "c:\\Python3.9.13\\lib\\site-packages\\sklearn\\metrics\\_classification.py:1318: UndefinedMetricWarning: Recall and F-score are ill-defined and being set to 0.0 in labels with no true samples. Use `zero_division` parameter to control this behavior.\n",
      "  _warn_prf(average, modifier, msg_start, len(result))\n",
      "c:\\Python3.9.13\\lib\\site-packages\\sklearn\\metrics\\_classification.py:1318: UndefinedMetricWarning: Precision and F-score are ill-defined and being set to 0.0 in labels with no predicted samples. Use `zero_division` parameter to control this behavior.\n",
      "  _warn_prf(average, modifier, msg_start, len(result))\n",
      "c:\\Python3.9.13\\lib\\site-packages\\sklearn\\metrics\\_classification.py:1318: UndefinedMetricWarning: Recall and F-score are ill-defined and being set to 0.0 in labels with no true samples. Use `zero_division` parameter to control this behavior.\n",
      "  _warn_prf(average, modifier, msg_start, len(result))\n"
     ]
    }
   ],
   "source": [
    "import numpy as np\n",
    "from sklearn.feature_extraction.text import TfidfVectorizer\n",
    "from sklearn.model_selection import train_test_split\n",
    "from sklearn.linear_model import LogisticRegression\n",
    "from sklearn.metrics import accuracy_score, classification_report\n",
    "\n",
    "# 장르(카테고리) 정의\n",
    "genre_labels = ['액션', '애니매이션', '코미디', '드라마', '공포(호러)', '기타']\n",
    "\n",
    "# 문서 코퍼스 생성\n",
    "corpus = [\n",
    "    ' '.join(act_nouns),\n",
    "    ' '.join(ani_nouns),\n",
    "    ' '.join(com_nouns),\n",
    "    ' '.join(dra_nouns),\n",
    "    ' '.join(hor_nouns),\n",
    "    ' '.join(etc_nouns)\n",
    "]\n",
    "\n",
    "# 각 문서에 해당하는 장르 레이블 생성\n",
    "labels = [genre_labels.index('액션'), genre_labels.index('애니매이션'),\n",
    "          genre_labels.index('코미디'), genre_labels.index('드라마'),\n",
    "          genre_labels.index('공포(호러)'), genre_labels.index('기타')]\n",
    "\n",
    "# TF-IDF 벡터화\n",
    "tfidf_vectorizer = TfidfVectorizer()\n",
    "tfidf_matrix = tfidf_vectorizer.fit_transform(corpus)\n",
    "\n",
    "# 데이터 분할: 학습 데이터와 테스트 데이터\n",
    "X_train, X_test, y_train, y_test = train_test_split(tfidf_matrix, labels, test_size=0.2, random_state=42)\n",
    "\n",
    "# 분류 모델 선택: 로지스틱 회귀 모델\n",
    "classifier = LogisticRegression()\n",
    "\n",
    "# 모델 학습\n",
    "classifier.fit(X_train, y_train)\n",
    "\n",
    "# 모델 예측\n",
    "y_pred = classifier.predict(X_test)\n",
    "\n",
    "# 모델 평가\n",
    "accuracy = accuracy_score(y_test, y_pred)\n",
    "print(f\"정확도: {accuracy:.2f}\")\n",
    "\n",
    "# 분류 보고서 출력\n",
    "report = classification_report(y_test, y_pred, labels=labels, target_names=genre_labels)\n",
    "print(\"분류 보고서:\")\n",
    "print(report)"
   ]
  }
 ],
 "metadata": {
  "kernelspec": {
   "display_name": "Python 3",
   "language": "python",
   "name": "python3"
  },
  "language_info": {
   "codemirror_mode": {
    "name": "ipython",
    "version": 3
   },
   "file_extension": ".py",
   "mimetype": "text/x-python",
   "name": "python",
   "nbconvert_exporter": "python",
   "pygments_lexer": "ipython3",
   "version": "3.9.13"
  },
  "orig_nbformat": 4
 },
 "nbformat": 4,
 "nbformat_minor": 2
}
